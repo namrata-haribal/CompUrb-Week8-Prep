{
 "cells": [
  {
   "cell_type": "code",
   "execution_count": 1,
   "metadata": {},
   "outputs": [],
   "source": [
    "import requests \n",
    "from bs4 import BeautifulSoup"
   ]
  },
  {
   "cell_type": "code",
   "execution_count": 2,
   "metadata": {},
   "outputs": [],
   "source": [
    "page = requests.get(\"https://www.weatherbug.com/weather-forecast/hourly/greater-london-city-of-westminster-uk\")\n",
    "soup = BeautifulSoup(page.content, 'html.parser')\n",
    "hourly = soup.find(class_=\"forecasts-subtab forecasts-subtab--hourly\")\n",
    "hour_cards = hourly.find_all(class_=\"hour-card__mobile__info\")"
   ]
  },
  {
   "cell_type": "code",
   "execution_count": 3,
   "metadata": {},
   "outputs": [
    {
     "name": "stdout",
     "output_type": "stream",
     "text": [
      "{'3pm': 'Cloudy', '4pm': 'Mostly Cloudy', '5pm': 'Partly Cloudy', '6pm': 'Mostly Cloudy', '7pm': 'Partly Cloudy', '8pm': 'Mostly Cloudy', '9pm': 'Mostly Cloudy', '10pm': 'Mostly Cloudy', '11pm': 'Cloudy', '12am': 'Cloudy', '1am': 'Cloudy', '2am': 'Cloudy'}\n"
     ]
    }
   ],
   "source": [
    "#Now that we have all the hour cards, we'll get try and get the appropriate \n",
    "#time and temperatures. \n",
    "\n",
    "import re \n",
    "hourly_temp = dict()\n",
    "\n",
    "for item in hour_cards: \n",
    "    time = item.find(class_=\"time\").get_text()\n",
    "    time_ext = (re.findall('\\w+', time))\n",
    "\n",
    "    desc= item.find(class_=\"description\").get_text()\n",
    "    desc_ext = re.findall(('\\w+\\s\\w+|\\w+' ) , desc)\n",
    "    \n",
    "    hourly_temp[time_ext[0]] = desc_ext[0]\n",
    "\n",
    "print(hourly_temp)\n",
    "\n"
   ]
  },
  {
   "cell_type": "code",
   "execution_count": null,
   "metadata": {},
   "outputs": [],
   "source": []
  },
  {
   "cell_type": "code",
   "execution_count": null,
   "metadata": {
    "collapsed": true
   },
   "outputs": [],
   "source": []
  }
 ],
 "metadata": {
  "kernelspec": {
   "display_name": "Python 3",
   "language": "python",
   "name": "python3"
  },
  "language_info": {
   "codemirror_mode": {
    "name": "ipython",
    "version": 3
   },
   "file_extension": ".py",
   "mimetype": "text/x-python",
   "name": "python",
   "nbconvert_exporter": "python",
   "pygments_lexer": "ipython3",
   "version": "3.6.4"
  }
 },
 "nbformat": 4,
 "nbformat_minor": 2
}
