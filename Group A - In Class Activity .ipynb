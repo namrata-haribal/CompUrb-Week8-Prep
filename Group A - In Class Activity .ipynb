{
 "cells": [
  {
   "cell_type": "markdown",
   "metadata": {},
   "source": [
    "In this activity we will parse data from the Weather Bug website for London. Here is the link: \n",
    "https://www.weatherbug.com/weather-forecast/hourly/greater-london-city-of-westminster-uk\n",
    "\n",
    "Weather bug has a feature where it publishes hourly data for a 12 hour period wherein for each hour, it provides the hour, the predicted temperature, and predicted description. \n",
    "\n",
    "Our task today is to scrape data from the weather bug website and for each of the 12 hour period, we'll extract the time and the description for each. We'll put this in a dictionary. "
   ]
  },
  {
   "cell_type": "markdown",
   "metadata": {},
   "source": [
    " Import the two relevant libraries that\n",
    " 1) get data from a web page \n",
    " 2) parse this data. "
   ]
  },
  {
   "cell_type": "code",
   "execution_count": null,
   "metadata": {},
   "outputs": [],
   "source": [
    "page = # Get all the content from the website. \n",
    "soup = # Parse the content from the website. \n",
    "hourly = # Find the relevant class that contains the hourly forecasts. \n",
    "hour_cards = # Find the relevant class within hourly that has all the data. "
   ]
  },
  {
   "cell_type": "code",
   "execution_count": null,
   "metadata": {},
   "outputs": [],
   "source": [
    "hourly_data = dict() #Dictionary where we'll store hourly data. \n",
    "\n",
    "# Loop through hourly_cards and extract the relevant info we need -- aka time and description. "
   ]
  }
 ],
 "metadata": {
  "kernelspec": {
   "display_name": "Python 3",
   "language": "python",
   "name": "python3"
  },
  "language_info": {
   "codemirror_mode": {
    "name": "ipython",
    "version": 3
   },
   "file_extension": ".py",
   "mimetype": "text/x-python",
   "name": "python",
   "nbconvert_exporter": "python",
   "pygments_lexer": "ipython3",
   "version": "3.6.4"
  }
 },
 "nbformat": 4,
 "nbformat_minor": 2
}
